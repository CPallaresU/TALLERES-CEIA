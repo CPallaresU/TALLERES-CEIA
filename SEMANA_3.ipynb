{
  "nbformat": 4,
  "nbformat_minor": 0,
  "metadata": {
    "colab": {
      "name": "SEMANA #3.ipynb",
      "provenance": [],
      "collapsed_sections": [],
      "authorship_tag": "ABX9TyPOz6o1yBv0DBqiPkdPmCpp",
      "include_colab_link": true
    },
    "kernelspec": {
      "name": "python3",
      "display_name": "Python 3"
    },
    "language_info": {
      "name": "python"
    }
  },
  "cells": [
    {
      "cell_type": "markdown",
      "metadata": {
        "id": "view-in-github",
        "colab_type": "text"
      },
      "source": [
        "<a href=\"https://colab.research.google.com/github/CPallaresU/TALLERES-CEIA/blob/main/SEMANA_3.ipynb\" target=\"_parent\"><img src=\"https://colab.research.google.com/assets/colab-badge.svg\" alt=\"Open In Colab\"/></a>"
      ]
    },
    {
      "cell_type": "code",
      "source": [
        "import numpy as np\n",
        "import pandas as pd\n",
        "from sklearn.decomposition import PCA"
      ],
      "metadata": {
        "id": "U3S2TL83HAZJ"
      },
      "execution_count": null,
      "outputs": []
    },
    {
      "cell_type": "markdown",
      "source": [
        "##EJERCICIO #1"
      ],
      "metadata": {
        "id": "PmFozA8bDW8v"
      }
    },
    {
      "cell_type": "code",
      "execution_count": null,
      "metadata": {
        "id": "RcpJ4iOGCDKf"
      },
      "outputs": [],
      "source": [
        "def normalizacion(dataset,cols,rows):\n",
        "  filas=rows\n",
        "  columnas=cols\n",
        "  data=dataset\n",
        "  mu=np.mean(data,axis=0)\n",
        "  std = np.std(data,axis=0)\n",
        "  data=(data-mu)/std\n",
        "  data = data.reshape(rows,cols)\n",
        "  return data"
      ]
    },
    {
      "cell_type": "markdown",
      "source": [
        "##EJERCICIO #2"
      ],
      "metadata": {
        "id": "6QTfcDeSFM8J"
      }
    },
    {
      "cell_type": "code",
      "source": [
        "def remove_NaN(X,axis_):\n",
        "  if axis_==1: #Filas\n",
        "    t=~np.isnan(X).any(axis=axis_)\n",
        "    #X=X.T\n",
        "    X=X[t]\n",
        "    #X=X.T\n",
        "  else: #Columnas\n",
        "    t=~np.isnan(X).any(axis=axis_)\n",
        "    X=X[t]\n",
        "  \n",
        "  return X"
      ],
      "metadata": {
        "id": "GLGLcdA4FOop"
      },
      "execution_count": null,
      "outputs": []
    },
    {
      "cell_type": "markdown",
      "source": [
        "##EJERCICIO #3"
      ],
      "metadata": {
        "id": "cyFVN2rKFLda"
      }
    },
    {
      "cell_type": "code",
      "source": [
        "def replace_NaN(data): #Código de https://stackoverflow.com/questions/18689235/numpy-array-replace-nan-values-with-average-of-columns\n",
        "  col_mean = np.nanmean(a, axis=0) #Calculamos la media de cada column\n",
        "  inds = np.where(np.isnan(a)) # Obtenemos las filas donde la columna es NaN\n",
        "  a[inds] = np.take(col_mean, inds[1]) #remplazamos los valores de NaN por la media de su respectiva columna\n",
        "                                       #y las coordenadas de NaN están en inds"
      ],
      "metadata": {
        "id": "w27OKvu1FPDy"
      },
      "execution_count": null,
      "outputs": []
    },
    {
      "cell_type": "markdown",
      "source": [
        "##EJERCICIO #4"
      ],
      "metadata": {
        "id": "kSAI3mMtFh44"
      }
    },
    {
      "cell_type": "code",
      "source": [
        "def split_data(data):\n",
        "\n",
        "  data.sample(frac=1)\n",
        "  x,y=np.shape(data)\n",
        "\n",
        "  print(x)\n",
        "  print(y)\n",
        "\n",
        "  train=data.iloc[:int(x*.7)]\n",
        "  validation=data.iloc[int(x*.7):int(x*.9)]\n",
        "  test=data.iloc[int(x*.9):]\n",
        "\n",
        "  return np.array(train),np.array(validation),np.array(test)"
      ],
      "metadata": {
        "id": "-Gl6mL0TFhoU"
      },
      "execution_count": null,
      "outputs": []
    },
    {
      "cell_type": "markdown",
      "source": [
        "##Integrador"
      ],
      "metadata": {
        "id": "7HBSvpCpV9QY"
      }
    },
    {
      "cell_type": "code",
      "source": [
        "q=pd.read_csv(\"income.csv\")\n",
        "w=remove_NaN(np.array(q),1)\n",
        "df = pd.DataFrame(w, columns = q.columns)\n",
        "train,validation,test=split_data(df)"
      ],
      "metadata": {
        "colab": {
          "base_uri": "https://localhost:8080/"
        },
        "id": "wV0eSlPaY7Iw",
        "outputId": "9d2699a6-cd1a-4418-f069-b2bdf5e916aa"
      },
      "execution_count": null,
      "outputs": [
        {
          "output_type": "stream",
          "name": "stdout",
          "text": [
            "498\n",
            "3\n"
          ]
        }
      ]
    },
    {
      "cell_type": "markdown",
      "source": [
        "##PCA"
      ],
      "metadata": {
        "id": "BuXt3m9Hgbw5"
      }
    },
    {
      "cell_type": "code",
      "source": [
        "n=2 \n",
        "pca = PCA(n_components=n)\n",
        "new_img_pca=pca.fit_transform(train)\n",
        "pca.transform(validation)"
      ],
      "metadata": {
        "colab": {
          "base_uri": "https://localhost:8080/"
        },
        "id": "hTH2rUq7eBw3",
        "outputId": "cc545e78-5cf9-4d33-9850-653316ac4b58"
      },
      "execution_count": null,
      "outputs": [
        {
          "output_type": "execute_result",
          "data": {
            "text/plain": [
              "array([[ 1.74498283e+02,  1.58793832e+00],\n",
              "       [ 1.75502034e+02, -1.97827824e+00],\n",
              "       [ 1.76501909e+02, -1.63166245e+00],\n",
              "       [ 1.77500702e+02, -5.09247238e-01],\n",
              "       [ 1.78501425e+02, -1.40569670e+00],\n",
              "       [ 1.79499914e+02,  2.69649595e-01],\n",
              "       [ 1.80503808e+02, -3.76295018e+00],\n",
              "       [ 1.81502285e+02, -2.28640881e+00],\n",
              "       [ 1.82502831e+02, -2.49202443e+00],\n",
              "       [ 1.83496394e+02,  3.45567865e+00],\n",
              "       [ 1.84502051e+02, -1.70469376e+00],\n",
              "       [ 1.85503428e+02, -2.97338839e+00],\n",
              "       [ 1.86499509e+02,  8.02935479e-01],\n",
              "       [ 1.87500517e+02, -3.36987345e-01],\n",
              "       [ 1.88501181e+02, -1.33491315e+00],\n",
              "       [ 1.89497250e+02,  2.73358513e+00],\n",
              "       [ 1.90502881e+02, -2.30457121e+00],\n",
              "       [ 1.91503449e+02, -3.11431916e+00],\n",
              "       [ 1.92497363e+02,  2.71814130e+00],\n",
              "       [ 1.93497677e+02,  1.92879776e+00],\n",
              "       [ 1.94497647e+02,  1.96046445e+00],\n",
              "       [ 1.95501411e+02, -1.15422027e+00],\n",
              "       [ 1.96501845e+02, -1.58247057e+00],\n",
              "       [ 1.97502791e+02, -2.59779668e+00],\n",
              "       [ 1.98496358e+02,  3.48996333e+00],\n",
              "       [ 1.99501249e+02, -1.15666815e+00],\n",
              "       [ 2.00502577e+02, -2.40722538e+00],\n",
              "       [ 2.01498247e+02,  1.64303300e+00],\n",
              "       [ 2.02499826e+02,  3.16100953e-01],\n",
              "       [ 2.03499411e+02,  6.22716064e-01],\n",
              "       [ 2.04498503e+02,  1.51404548e+00],\n",
              "       [ 2.05498846e+02,  8.91933781e-01],\n",
              "       [ 2.06503492e+02, -3.20907460e+00],\n",
              "       [ 2.07501171e+02, -6.70576063e-01],\n",
              "       [ 2.08498978e+02,  1.03652776e+00],\n",
              "       [ 2.09499215e+02,  8.67739714e-01],\n",
              "       [ 2.10496647e+02,  3.39712591e+00],\n",
              "       [ 2.11501545e+02, -1.29975957e+00],\n",
              "       [ 2.12497214e+02,  2.50783293e+00],\n",
              "       [ 2.13502204e+02, -1.62791082e+00],\n",
              "       [ 2.14503481e+02, -3.00908155e+00],\n",
              "       [ 2.15498631e+02,  1.44564805e+00],\n",
              "       [ 2.16501738e+02, -1.52739679e+00],\n",
              "       [ 2.17499193e+02,  8.12073324e-01],\n",
              "       [ 2.18503573e+02, -3.13699506e+00],\n",
              "       [ 2.19498289e+02,  1.53235625e+00],\n",
              "       [ 2.20498331e+02,  1.30168746e+00],\n",
              "       [ 2.21497700e+02,  2.06401776e+00],\n",
              "       [ 2.22498425e+02,  1.54936588e+00],\n",
              "       [ 2.23499604e+02,  5.51757865e-01],\n",
              "       [ 2.24499782e+02,  4.56467616e-01],\n",
              "       [ 2.25499485e+02,  6.34591483e-01],\n",
              "       [ 2.26496070e+02,  3.55995248e+00],\n",
              "       [ 2.27502329e+02, -1.99132178e+00],\n",
              "       [ 2.28497559e+02,  2.75937967e+00],\n",
              "       [ 2.29496924e+02,  2.73559258e+00],\n",
              "       [ 2.30501254e+02, -1.05168353e+00],\n",
              "       [ 2.31497475e+02,  2.31429431e+00],\n",
              "       [ 2.32502238e+02, -1.64000672e+00],\n",
              "       [ 2.33499301e+02,  8.73323397e-01],\n",
              "       [ 2.34495876e+02,  4.04903533e+00],\n",
              "       [ 2.35498392e+02,  1.43589010e+00],\n",
              "       [ 2.36500244e+02, -8.59150603e-02],\n",
              "       [ 2.37501444e+02, -1.31356555e+00],\n",
              "       [ 2.38496372e+02,  3.69458424e+00],\n",
              "       [ 2.39498219e+02,  1.97141868e+00],\n",
              "       [ 2.40500499e+02, -6.61792779e-02],\n",
              "       [ 2.41499403e+02,  4.90323534e-01],\n",
              "       [ 2.42500645e+02, -3.71189268e-01],\n",
              "       [ 2.43496480e+02,  3.39327169e+00],\n",
              "       [ 2.44496517e+02,  3.20801123e+00],\n",
              "       [ 2.45496885e+02,  3.13298948e+00],\n",
              "       [ 2.46503373e+02, -2.87029375e+00],\n",
              "       [ 2.47496948e+02,  2.87630670e+00],\n",
              "       [ 2.48499613e+02,  4.52941766e-01],\n",
              "       [ 2.49496420e+02,  3.36253150e+00],\n",
              "       [ 2.50501758e+02, -1.62511483e+00],\n",
              "       [ 2.51501855e+02, -1.72830750e+00],\n",
              "       [ 2.52497208e+02,  2.88511810e+00],\n",
              "       [ 2.53498335e+02,  1.77172554e+00],\n",
              "       [ 2.54500773e+02, -7.36223072e-01],\n",
              "       [ 2.55498018e+02,  2.02425524e+00],\n",
              "       [ 2.56497382e+02,  2.42439897e+00],\n",
              "       [ 2.57503003e+02, -2.70338762e+00],\n",
              "       [ 2.58501025e+02, -8.02601160e-01],\n",
              "       [ 2.59497926e+02,  1.88729215e+00],\n",
              "       [ 2.60496279e+02,  3.77780419e+00],\n",
              "       [ 2.61498171e+02,  1.71569838e+00],\n",
              "       [ 2.62496650e+02,  3.08532493e+00],\n",
              "       [ 2.63503526e+02, -3.10512939e+00],\n",
              "       [ 2.64497875e+02,  2.05593938e+00],\n",
              "       [ 2.65495490e+02,  4.45723963e+00],\n",
              "       [ 2.66502279e+02, -2.00437623e+00],\n",
              "       [ 2.67503760e+02, -3.52500157e+00],\n",
              "       [ 2.68497214e+02,  2.82449647e+00],\n",
              "       [ 2.69502046e+02, -1.96623008e+00],\n",
              "       [ 2.70497512e+02,  2.29291848e+00],\n",
              "       [ 2.71503169e+02, -3.09222839e+00],\n",
              "       [ 2.72503327e+02, -3.20911541e+00],\n",
              "       [ 2.73502058e+02, -1.89185855e+00]])"
            ]
          },
          "metadata": {},
          "execution_count": 82
        }
      ]
    },
    {
      "cell_type": "markdown",
      "source": [
        "##Regresión lineal"
      ],
      "metadata": {
        "id": "AktDmEgShUVb"
      }
    },
    {
      "cell_type": "code",
      "source": [
        "class model_class(object):\n",
        "\n",
        "  def __init__(self):\n",
        "      self.model = None\n",
        "\n",
        "  def fit(self, X, Y):\n",
        "      return NotImplemented\n",
        "\n",
        "  def predict(self, X):\n",
        "      return NotImplemented\n",
        "\n",
        "class linear_Reg (model_class):\n",
        "\n",
        "  def fit(self,x,y):\n",
        "     w = np.linalg.inv(x.T.dot(x)).dot(x.T).dot(y) #utilizamos esta formula a partir de despejar el parametro W del error cuadratico medio \n",
        "     self.weight=w                                 #igualado a cero y derivado, obteniendo el optimo W\n",
        "     return self.weight\n",
        "\n",
        "  def predict(self,x,parameters):\n",
        "    \n",
        "    y=np.dot(x,parameters)\n",
        "    return y"
      ],
      "metadata": {
        "id": "Sl_Gum1TkvZV"
      },
      "execution_count": null,
      "outputs": []
    },
    {
      "cell_type": "code",
      "source": [
        "class metric(object):\n",
        "\n",
        "  def __init__(self,y_actual,y_pred,TP,FP,TN,FN):\n",
        "    self.y_actual=y_actual\n",
        "    self.y_pred=y_pred\n",
        "    self.TP = TP\n",
        "    self.FP = FP\n",
        "    self.TN = TN\n",
        "    self.FN = FN\n",
        "\n",
        "  def vals_(self):\n",
        "\n",
        "    for i in range(len(self.y_pred)): \n",
        "        if self.y_actual[i]==self.y_pred[i]==1:\n",
        "           self.TP += 1\n",
        "        if self.y_pred[i]==1 and self.y_actual[i]!=self.y_pred[i]:\n",
        "           self.FP += 1\n",
        "        if self.y_actual[i]==self.y_pred[i]==0:\n",
        "           self.TN += 1\n",
        "        if self.y_pred[i]==0 and self.y_actual[i]!=self.y_pred[i]:\n",
        "           self.FN += 1\n",
        "    return self.TP,self.FP,self.TN,self.FN\n",
        "\n",
        "\n",
        "class mse(metric):\n",
        "  \n",
        "  def mse_(self):\n",
        "    return (sum(np.square(self.y_actual-self.y_pred))/len(self.y_pred))\n",
        "\n",
        "class recall(metric):\n",
        "\n",
        "  def recall_(self):\n",
        "    return self.TP / (self.TP + self.FN)\n",
        "\n",
        "class precision(metric):\n",
        "\n",
        "  def precision_(self):\n",
        "    return self.TP / (self.TP + self.FP)\n"
      ],
      "metadata": {
        "id": "S2gld9pBYNJ6"
      },
      "execution_count": 107,
      "outputs": []
    },
    {
      "cell_type": "code",
      "source": [
        "model=linear_Reg()\n",
        "parameters=model.fit(train[:,:np.shape(train)[1]-1],\n",
        "          train[:,-1]) # y = x[:,np.shape(x)[1]-1] selecciona la ultima columna, el -1 es para no salir de las n-1 dimensiones\n",
        "\n",
        "y_pred=model.predict(test[:,:np.shape(test)[1]-1],parameters)"
      ],
      "metadata": {
        "id": "VErnNiXMsTkX"
      },
      "execution_count": 108,
      "outputs": []
    },
    {
      "cell_type": "code",
      "source": [
        "error = mse(test[:,-1],y_pred,0,0,0,0)\n",
        "print(\"Error asociado a la predicción: {}\".format(mse.mse_(error)))"
      ],
      "metadata": {
        "colab": {
          "base_uri": "https://localhost:8080/"
        },
        "id": "PzdaXroHZmuQ",
        "outputId": "c9ad8b32-4e60-4600-8f36-0e53cd64e10c"
      },
      "execution_count": 110,
      "outputs": [
        {
          "output_type": "stream",
          "name": "stdout",
          "text": [
            "Error asociado a la predicción: 0.5480442786289866\n"
          ]
        }
      ]
    }
  ]
}