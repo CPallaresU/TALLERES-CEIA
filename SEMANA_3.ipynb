{
  "nbformat": 4,
  "nbformat_minor": 0,
  "metadata": {
    "colab": {
      "name": "SEMANA #3.ipynb",
      "provenance": [],
      "collapsed_sections": [],
      "authorship_tag": "ABX9TyPTw9ZcMjMofukwdpux/3Cg",
      "include_colab_link": true
    },
    "kernelspec": {
      "name": "python3",
      "display_name": "Python 3"
    },
    "language_info": {
      "name": "python"
    }
  },
  "cells": [
    {
      "cell_type": "markdown",
      "metadata": {
        "id": "view-in-github",
        "colab_type": "text"
      },
      "source": [
        "<a href=\"https://colab.research.google.com/github/CPallaresU/TALLERES-CEIA/blob/main/SEMANA_3.ipynb\" target=\"_parent\"><img src=\"https://colab.research.google.com/assets/colab-badge.svg\" alt=\"Open In Colab\"/></a>"
      ]
    },
    {
      "cell_type": "code",
      "source": [
        "import numpy as np"
      ],
      "metadata": {
        "id": "U3S2TL83HAZJ"
      },
      "execution_count": null,
      "outputs": []
    },
    {
      "cell_type": "markdown",
      "source": [
        "##EJERCICIO #1"
      ],
      "metadata": {
        "id": "PmFozA8bDW8v"
      }
    },
    {
      "cell_type": "code",
      "execution_count": null,
      "metadata": {
        "id": "RcpJ4iOGCDKf"
      },
      "outputs": [],
      "source": [
        "def normalizacion(dataset,cols,rows):\n",
        "  filas=rows\n",
        "  columnas=cols\n",
        "  data=dataset\n",
        "  mu=np.mean(data,axis=0)\n",
        "  std = np.std(data,axis=0)\n",
        "  data=(data-mu)/std\n",
        "  data = data.reshape(rows,cols)\n",
        "  return data"
      ]
    },
    {
      "cell_type": "markdown",
      "source": [
        "##EJERCICIO #2"
      ],
      "metadata": {
        "id": "6QTfcDeSFM8J"
      }
    },
    {
      "cell_type": "code",
      "source": [
        "def remove_NaN(X,axis_):\n",
        "  if axis_==1: #Filas\n",
        "    t=~np.isnan(X).any(axis=axis_)\n",
        "    X=X.T\n",
        "    X=X[t]\n",
        "    X=X.T\n",
        "  else: #Columnas\n",
        "    t=~np.isnan(X).any(axis=axis_)\n",
        "    X=X[t]\n",
        "  \n",
        "  return X"
      ],
      "metadata": {
        "id": "GLGLcdA4FOop"
      },
      "execution_count": null,
      "outputs": []
    },
    {
      "cell_type": "code",
      "source": [
        "x=np.array([[ 1.,  2.,  4.,6,5],\n",
        "            [ 2.,  4.,  8.,1,2],\n",
        "            [ 3.,  6.,  0.,8,9],\n",
        "            [ 3.,  6.,  0.,4,4]])\n",
        "x[:,:2]\n",
        "np.shape(x)"
      ],
      "metadata": {
        "colab": {
          "base_uri": "https://localhost:8080/"
        },
        "id": "Eur5CvErIZBi",
        "outputId": "364b7afa-8c0b-4097-ea5b-e3a0793c8d8c"
      },
      "execution_count": null,
      "outputs": [
        {
          "output_type": "execute_result",
          "data": {
            "text/plain": [
              "(4, 5)"
            ]
          },
          "metadata": {},
          "execution_count": 69
        }
      ]
    },
    {
      "cell_type": "markdown",
      "source": [
        "##EJERCICIO #3"
      ],
      "metadata": {
        "id": "cyFVN2rKFLda"
      }
    },
    {
      "cell_type": "code",
      "source": [
        "def replace_NaN(data): #Código de https://stackoverflow.com/questions/18689235/numpy-array-replace-nan-values-with-average-of-columns\n",
        "  col_mean = np.nanmean(a, axis=0) #Calculamos la media de cada column\n",
        "  inds = np.where(np.isnan(a)) # Obtenemos las filas donde la columna es NaN\n",
        "  a[inds] = np.take(col_mean, inds[1]) #remplazamos los valores de NaN por la media de su respectiva columna\n",
        "                                       #y las coordenadas de NaN están en inds"
      ],
      "metadata": {
        "id": "w27OKvu1FPDy"
      },
      "execution_count": null,
      "outputs": []
    },
    {
      "cell_type": "markdown",
      "source": [
        "##EJERCICIO #4"
      ],
      "metadata": {
        "id": "kSAI3mMtFh44"
      }
    },
    {
      "cell_type": "code",
      "source": [
        "def split_data(data):\n",
        "  x,y=np.shape(data)\n",
        "  train=data[:,:int(y*.7)]\n",
        "  validation=data[:,int(y*.7):int(y*.9)]\n",
        "  test=data[:,int(y*.9):]\n",
        "\n",
        "  return train,validation,test"
      ],
      "metadata": {
        "id": "-Gl6mL0TFhoU"
      },
      "execution_count": null,
      "outputs": []
    },
    {
      "cell_type": "markdown",
      "source": [
        "##EJERCICIO #5"
      ],
      "metadata": {
        "id": "U9G1-mfAYHG_"
      }
    },
    {
      "cell_type": "code",
      "source": [
        "class dataset(object):\n",
        "  def __init__(self,data):\n",
        "\n",
        "    self.dataset=self.datos_df()\n",
        "\n",
        "  def datos_df():\n",
        "\n",
        "    np.array('income',\n",
        "      dtype=[('name', 'U10'), ('age', '<i4'), ('weight', '<f4')])\n",
        "    \n",
        "  def split(self,data,p_train,p_test):\n",
        "\n",
        "    x,y=np.shape(self.data)\n",
        "    train=self.data[:,:int(y*p_train)]\n",
        "    validation=self.data[:,int(y*p_train):int(y*p_test)]\n",
        "    test=self.data[:,int(y*.9):]\n",
        "\n",
        "    return train,test\n",
        "\n",
        "\n",
        "class metric(object):\n",
        "\n",
        "  def __init__(self,y_actual,y_pred,TP,FP,TN,FN):\n",
        "    self.y_actual=y_actual\n",
        "    self.y_pred=y_pred\n",
        "    self.TP = TP\n",
        "    self.FP = FP\n",
        "    self.TN = TN\n",
        "    self.FN = FN\n",
        "\n",
        "  def vals_(self):\n",
        "\n",
        "    for i in range(len(self.y_pred)): \n",
        "        if self.y_actual[i]==self.y_pred[i]==1:\n",
        "           self.TP += 1\n",
        "        if self.y_pred[i]==1 and self.y_actual[i]!=self.y_pred[i]:\n",
        "           self.FP += 1\n",
        "        if self.y_actual[i]==self.y_pred[i]==0:\n",
        "           self.TN += 1\n",
        "        if self.y_pred[i]==0 and self.y_actual[i]!=self.y_pred[i]:\n",
        "           self.FN += 1\n",
        "    return self.TP,self.FP,self.TN,self.FN\n",
        "\n",
        "class recall(metric):\n",
        "\n",
        "  def recall_(self):\n",
        "    return self.TP / (self.TP + self.FN)\n",
        "\n",
        "class precision(metric):\n",
        "\n",
        "  def precision_(self):\n",
        "    return self.TP / (self.TP + self.FP)\n"
      ],
      "metadata": {
        "id": "S2gld9pBYNJ6"
      },
      "execution_count": null,
      "outputs": []
    },
    {
      "cell_type": "code",
      "source": [
        "q=recall(np.array([1,0,1,3,4,1]),np.array([1,1,0,1,1,1]),0,0,0,0)\n",
        "q.vals_()\n",
        "print(\"Recall: {}\".format(q.recall_()))\n",
        "\n",
        "q=precision(np.array([1,0,1]),np.array([1,1,0]),0,0,0,0)\n",
        "q.vals_()\n",
        "print(\"Precision: {}\".format(q.precision_()))"
      ],
      "metadata": {
        "colab": {
          "base_uri": "https://localhost:8080/"
        },
        "id": "ByF4Re1UiWEL",
        "outputId": "44d8665f-89c0-4cd5-8184-4873cccdf002"
      },
      "execution_count": null,
      "outputs": [
        {
          "output_type": "stream",
          "name": "stdout",
          "text": [
            "Recall: 0.6666666666666666\n",
            "Precision: 0.5\n"
          ]
        }
      ]
    }
  ]
}