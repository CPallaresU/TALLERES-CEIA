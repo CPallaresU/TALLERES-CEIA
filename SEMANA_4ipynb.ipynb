{
  "nbformat": 4,
  "nbformat_minor": 0,
  "metadata": {
    "colab": {
      "name": "SEMANA #4ipynb",
      "provenance": [],
      "authorship_tag": "ABX9TyN6zoeenKUmepvaXfjGYZKu",
      "include_colab_link": true
    },
    "kernelspec": {
      "name": "python3",
      "display_name": "Python 3"
    },
    "language_info": {
      "name": "python"
    }
  },
  "cells": [
    {
      "cell_type": "markdown",
      "metadata": {
        "id": "view-in-github",
        "colab_type": "text"
      },
      "source": [
        "<a href=\"https://colab.research.google.com/github/CPallaresU/TALLERES-CEIA/blob/main/SEMANA_4ipynb.ipynb\" target=\"_parent\"><img src=\"https://colab.research.google.com/assets/colab-badge.svg\" alt=\"Open In Colab\"/></a>"
      ]
    },
    {
      "cell_type": "code",
      "source": [
        "import numpy as np\n",
        "import pandas as pd"
      ],
      "metadata": {
        "id": "yepy2cSR8U5I"
      },
      "execution_count": 72,
      "outputs": []
    },
    {
      "cell_type": "code",
      "execution_count": 73,
      "metadata": {
        "id": "b9Fgg8X12tL0"
      },
      "outputs": [],
      "source": [
        "class model_class(object):\n",
        "\n",
        "  def __init__(self):\n",
        "      self.model = None\n",
        "\n",
        "  def fit(self, X, Y):\n",
        "      return NotImplemented\n",
        "\n",
        "  def predict(self, X):\n",
        "      return NotImplemented\n",
        "\n",
        "class linear_Reg (model_class):\n",
        "\n",
        "  def fit(self,x,y):\n",
        "     w = np.linalg.inv(x.T.dot(x)).dot(x.T).dot(y) #utilizamos esta formula a partir de despejar el parametro W del error cuadratico medio \n",
        "     self.weight=w                                 #igualado a cero y derivado, obteniendo el optimo W\n",
        "     return self.weight\n",
        "\n",
        "  def predict(self,x,parameters):\n",
        "    \n",
        "    y=np.dot(x,parameters)\n",
        "    return y"
      ]
    },
    {
      "cell_type": "code",
      "source": [
        "class metric(object):\n",
        "\n",
        "  def __init__(self,y_actual,y_pred,TP,FP,TN,FN):\n",
        "    self.y_actual=y_actual\n",
        "    self.y_pred=y_pred\n",
        "    self.TP = TP\n",
        "    self.FP = FP\n",
        "    self.TN = TN\n",
        "    self.FN = FN\n",
        "\n",
        "  def vals_(self):\n",
        "\n",
        "    for i in range(len(self.y_pred)): \n",
        "        if self.y_actual[i]==self.y_pred[i]==1:\n",
        "           self.TP += 1\n",
        "        if self.y_pred[i]==1 and self.y_actual[i]!=self.y_pred[i]:\n",
        "           self.FP += 1\n",
        "        if self.y_actual[i]==self.y_pred[i]==0:\n",
        "           self.TN += 1\n",
        "        if self.y_pred[i]==0 and self.y_actual[i]!=self.y_pred[i]:\n",
        "           self.FN += 1\n",
        "    return self.TP,self.FP,self.TN,self.FN\n",
        "\n",
        "\n",
        "class mse(metric):\n",
        "  \n",
        "  def mse_(self):\n",
        "    return (sum(np.square(self.y_actual-self.y_pred))/len(self.y_pred))\n",
        "\n",
        "class recall(metric):\n",
        "\n",
        "  def recall_(self):\n",
        "    return self.TP / (self.TP + self.FN)\n",
        "\n",
        "class precision(metric):\n",
        "\n",
        "  def precision_(self):\n",
        "    return self.TP / (self.TP + self.FP)"
      ],
      "metadata": {
        "id": "PJ0q2B_jC5BX"
      },
      "execution_count": 74,
      "outputs": []
    },
    {
      "cell_type": "code",
      "source": [
        "def remove_NaN(X,axis_):\n",
        "  if axis_==1: #Filas\n",
        "    t=~np.isnan(X).any(axis=axis_)\n",
        "    #X=X.T\n",
        "    X=X[t]\n",
        "    #X=X.T\n",
        "  else: #Columnas\n",
        "    t=~np.isnan(X).any(axis=axis_)\n",
        "    X=X[t]\n",
        "  \n",
        "  return X\n",
        "\n",
        "def split_data(data,random_v):\n",
        "\n",
        "  data=data.sample(frac=.5, replace=True, random_state=random_v)\n",
        "  x,y=np.shape(data)\n",
        "  train=data.iloc[:int(x*.7)]\n",
        "  validation=data.iloc[int(x*.7):int(x*.9)]\n",
        "  test=data.iloc[int(x*.9):]\n",
        "\n",
        "  return np.array(train),np.array(validation),np.array(test)"
      ],
      "metadata": {
        "id": "-p7gzerABCRP"
      },
      "execution_count": 75,
      "outputs": []
    },
    {
      "cell_type": "markdown",
      "source": [
        "##Leemos los datos y los normalizamos ya que la variable charges es la variable objetivo e inicilamente tenia valores sobre 10.000, entonces trabajar con atributos entre 1 y 100 para obtener valores tan altos genera mucho ruido y los parametros deberan tomar valores muy garndes, por lo que normalizamos todo el dataset"
      ],
      "metadata": {
        "id": "g2gPOMYgQZZO"
      }
    },
    {
      "cell_type": "code",
      "source": [
        "!git clone https://github.com/CPallaresU/TALLERES-CEIA.git\n",
        "q=pd.read_csv(\"/content/TALLERES-CEIA/insurance.csv\")\n",
        "\n",
        "q['sex'].replace(['female', 'male'],\n",
        "                        [0, 1], inplace=True)\n",
        "\n",
        "q['smoker'].replace(['yes', 'no'],\n",
        "                        [1, 0], inplace=True)\n",
        "q['region'].replace(['southwest', 'northwest', 'northeast', 'southeast'],\n",
        "                        [1, 2, 3, 4], inplace=True)\n",
        "\n",
        "#q['charges']=np.abs((q['charges']-q['charges'].mean())/q['charges'].std())\n",
        "q=np.abs((q-q.mean())/q.std())"
      ],
      "metadata": {
        "colab": {
          "base_uri": "https://localhost:8080/"
        },
        "id": "VtHa43ozCuyN",
        "outputId": "27fb2885-3fe2-4209-dbd9-5cd8820dd2a7"
      },
      "execution_count": 76,
      "outputs": [
        {
          "output_type": "stream",
          "name": "stdout",
          "text": [
            "fatal: destination path 'TALLERES-CEIA' already exists and is not an empty directory.\n"
          ]
        }
      ]
    },
    {
      "cell_type": "code",
      "source": [
        "w=remove_NaN(np.array(q),1)\n",
        "df = pd.DataFrame(w, columns = q.columns)"
      ],
      "metadata": {
        "id": "JellKo_78s7e"
      },
      "execution_count": 77,
      "outputs": []
    },
    {
      "cell_type": "markdown",
      "source": [
        "##Generamos ahora diferentes regresiones con semillas diferentes para el split"
      ],
      "metadata": {
        "id": "vNf2YnjjTNZy"
      }
    },
    {
      "cell_type": "code",
      "source": [
        "seeds= [25,226,42,5222]\n",
        "\n",
        "for i in seeds:\n",
        "  train,validation,test=split_data(df,i)\n",
        "\n",
        "  model=linear_Reg()\n",
        "  parameters=model.fit(train[:,:np.shape(train)[1]-1],\n",
        "            train[:,-1]) # y = x[:,np.shape(x)[1]-1] selecciona la ultima columna, el -1 es para no salir de las n-1 dimensiones\n",
        "\n",
        "  y_pred=model.predict(test[:,:np.shape(test)[1]-1],parameters)\n",
        "  error = mse(test[:,-1],y_pred,0,0,0,0)\n",
        "  print(\"Error asociado a la predicción: {}\".format(mse.mse_(error)))\n",
        "  print(parameters)"
      ],
      "metadata": {
        "colab": {
          "base_uri": "https://localhost:8080/"
        },
        "id": "Z0F091crTNDf",
        "outputId": "ecc4cf3f-35f8-4d72-8154-098cb3fbf1c7"
      },
      "execution_count": 81,
      "outputs": [
        {
          "output_type": "stream",
          "name": "stdout",
          "text": [
            "Error asociado a la predicción: 0.26909421106602727\n",
            "[ 0.05909184  0.12873523 -0.03152183 -0.02276854  0.74588858  0.00938263]\n",
            "Error asociado a la predicción: 0.2631841891059832\n",
            "[ 1.15858793e-04  2.06102537e-01 -4.96361936e-02 -6.48287344e-02\n",
            "  8.01698039e-01  1.83217146e-02]\n",
            "Error asociado a la predicción: 0.29967393868218684\n",
            "[-0.0082769   0.01829268 -0.02666655  0.00935314  0.77133828  0.18692245]\n",
            "Error asociado a la predicción: 0.20285488913635374\n",
            "[ 0.0485297   0.16731061  0.09077543 -0.05211508  0.69518935 -0.06146418]\n"
          ]
        }
      ]
    }
  ]
}