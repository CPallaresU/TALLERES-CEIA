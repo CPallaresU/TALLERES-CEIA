{
  "nbformat": 4,
  "nbformat_minor": 0,
  "metadata": {
    "colab": {
      "name": "SEMANA #1.ipynb",
      "provenance": [],
      "collapsed_sections": [],
      "authorship_tag": "ABX9TyPUOz6+N6I+fLeEfATwQ3v9",
      "include_colab_link": true
    },
    "kernelspec": {
      "name": "python3",
      "display_name": "Python 3"
    },
    "language_info": {
      "name": "python"
    }
  },
  "cells": [
    {
      "cell_type": "markdown",
      "metadata": {
        "id": "view-in-github",
        "colab_type": "text"
      },
      "source": [
        "<a href=\"https://colab.research.google.com/github/CPallaresU/TALLERES-CEIA/blob/main/SEMANA_1.ipynb\" target=\"_parent\"><img src=\"https://colab.research.google.com/assets/colab-badge.svg\" alt=\"Open In Colab\"/></a>"
      ]
    },
    {
      "cell_type": "code",
      "execution_count": null,
      "metadata": {
        "id": "5QOns-1VFcdy"
      },
      "outputs": [],
      "source": [
        "import numpy as np\n",
        "import pandas as pd\n"
      ]
    },
    {
      "cell_type": "markdown",
      "source": [
        "##EJERCICIO #1"
      ],
      "metadata": {
        "id": "7SRm7m1leL0f"
      }
    },
    {
      "cell_type": "code",
      "source": [
        "matrix=np.array([[500,2,3],[4,5,-6],[6,7,8]])"
      ],
      "metadata": {
        "id": "xyzOgmKZeOuP"
      },
      "execution_count": null,
      "outputs": []
    },
    {
      "cell_type": "code",
      "source": [
        "def norma_0(matrix):\n",
        "  z=matrix>0\n",
        "  return np.sum(z,axis=1)"
      ],
      "metadata": {
        "id": "Dfc0e2AjgNUH"
      },
      "execution_count": null,
      "outputs": []
    },
    {
      "cell_type": "code",
      "source": [
        "def norma_1(matrix):\n",
        "  return np.sum(np.abs(matrix),axis=1)"
      ],
      "metadata": {
        "id": "fKEP4JUNhLiO"
      },
      "execution_count": null,
      "outputs": []
    },
    {
      "cell_type": "code",
      "source": [
        "def norma_2(matrix):\n",
        "  return np.square(np.sum(np.abs(matrix),axis=1))\n",
        "norma_2(matrix)"
      ],
      "metadata": {
        "id": "aMZqq9W1hYo7"
      },
      "execution_count": null,
      "outputs": []
    },
    {
      "cell_type": "code",
      "source": [
        "def norma_infinita(matrix):\n",
        "  return np.max(np.abs(matrix),axis=1)"
      ],
      "metadata": {
        "id": "KNN0ngBKglc3"
      },
      "execution_count": null,
      "outputs": []
    },
    {
      "cell_type": "markdown",
      "source": [
        "##EJERCICIO #2"
      ],
      "metadata": {
        "id": "QtoNo2_SivgF"
      }
    },
    {
      "cell_type": "code",
      "source": [
        "sorted_=np.argsort(norma_2(matrix))\n",
        "cont=0\n",
        "matrix_copy=np.copy(matrix)\n",
        "for t in sorted_:\n",
        "  matrix[cont]=matrix_copy[t]\n",
        "  cont=cont+1\n",
        "\n",
        "matrix"
      ],
      "metadata": {
        "id": "ftS4ZNXak9Yl"
      },
      "execution_count": null,
      "outputs": []
    },
    {
      "cell_type": "markdown",
      "source": [
        "##EJERCICIO #3 falta terminar, solo tome codigo del repo"
      ],
      "metadata": {
        "id": "N5QVq9Y8oXt0"
      }
    },
    {
      "cell_type": "code",
      "source": [
        "class Indexer(object):\n",
        "    def __init__(self, ids):\n",
        "        unique_ids = np.unique(ids)\n",
        "        id2idx = np.arange(0, len(ids), 1, dtype=int)\n",
        "        self.id2idx = id2idx\n",
        "        self.idx2id = unique_ids\n",
        "\n",
        "    def get_idxs(self, ids):\n",
        "        ids = self.id2idx[ids]\n",
        "        return ids, ids != -1\n",
        "\n",
        "    def get_ids(self, idxs):\n",
        "        return self.idx2id[idxs]"
      ],
      "metadata": {
        "id": "9o0BAk5yoXOM"
      },
      "execution_count": null,
      "outputs": []
    },
    {
      "cell_type": "markdown",
      "source": [
        "##EJERCICIO #4"
      ],
      "metadata": {
        "id": "_1EpRtfFvFhu"
      }
    },
    {
      "cell_type": "code",
      "source": [
        "truth=np.array([1,1,0,1,1,1,0,0,0,1])\n",
        "prediction=np.array([1,1,1,1,-2,-2,1,1,-2,-2]) #0 = -2 para predicción\n",
        "\n",
        "def metricas(truth,prediction):\n",
        "  total=truth-prediction\n",
        "  tp=len(total[total==0])\n",
        "  tn=len(total[total==2])\n",
        "  fn=len(total[total==3])\n",
        "  fp=len(total[total==-1])\n",
        "\n",
        "  precision=tp/(tp+fp)\n",
        "  recall=tp/(tp+fn)\n",
        "  accuracy=(tp+tn)/(tp+tn+fp+fn)\n",
        "\n",
        "  return precision,recall,accuracy\n",
        "\n",
        "metricas(truth,prediction)"
      ],
      "metadata": {
        "colab": {
          "base_uri": "https://localhost:8080/"
        },
        "id": "wqYN_O1GvHY_",
        "outputId": "27ec6089-074c-4ead-e4cc-31d5d7f41db3"
      },
      "execution_count": null,
      "outputs": [
        {
          "output_type": "execute_result",
          "data": {
            "text/plain": [
              "(0.5, 0.5, 0.4)"
            ]
          },
          "metadata": {},
          "execution_count": 151
        }
      ]
    },
    {
      "cell_type": "markdown",
      "source": [
        "##EJERCICIO #5"
      ],
      "metadata": {
        "id": "OoYbBJhVz8Qi"
      }
    },
    {
      "cell_type": "code",
      "source": [
        "q_id=np.array([1,1,1,1,2,2,2,3,3,3,3,3,4,4,4,4])\n",
        "truth_relevance=np.array([1,0,1,0,1,1,1,0,0,0,0,0,1,0,0,1])\n",
        "\n",
        "def average_q_precision(q_id,truth_relevance):\n",
        "  unique, counts = np.unique(q_id, return_counts=True)\n",
        "  start=0\n",
        "  acum=0\n",
        "  for t in counts:\n",
        "    print(\"{}/{}\".format(np.sum(truth_relevance[start:t+start]),t))\n",
        "    acum=(np.sum(truth_relevance[start:t+start])+acum)/t\n",
        "    start=t+start\n",
        "  return acum/len(counts)\n",
        "\n",
        "average_q_precision(q_id,truth_relevance)"
      ],
      "metadata": {
        "colab": {
          "base_uri": "https://localhost:8080/"
        },
        "id": "87vRpzwIz-AS",
        "outputId": "2d2ca272-0dc7-4eb5-f4a8-7741cdb50406"
      },
      "execution_count": null,
      "outputs": [
        {
          "output_type": "stream",
          "name": "stdout",
          "text": [
            "2/4\n",
            "3/3\n",
            "0/5\n",
            "2/4\n"
          ]
        },
        {
          "output_type": "execute_result",
          "data": {
            "text/plain": [
              "0.13958333333333334"
            ]
          },
          "metadata": {},
          "execution_count": 149
        }
      ]
    },
    {
      "cell_type": "markdown",
      "source": [
        "##EJERCICIO #6"
      ],
      "metadata": {
        "id": "Cn39pXtx9-2g"
      }
    },
    {
      "cell_type": "code",
      "source": [
        "def dist_a_centroide(x,c):\n",
        "  c=c[:,None] #Agregando un eje nuevo\n",
        "  return np.sqrt(np.sum((x-c)**2,axis=2)) #distancia euclidiana para cada componete de X en C\n",
        "  #return np.sqrt(np.square(np.sum((x-c)))) #Lo hace para toda la matriz\n",
        "x=np.array([[1,2,3],[4,5,6],[7,8,9]])\n",
        "c=np.array([[1,0,0],[0,1,1]])\n",
        "\n",
        "dist_a_centroide(x,c)"
      ],
      "metadata": {
        "colab": {
          "base_uri": "https://localhost:8080/"
        },
        "id": "Gaw6wpCG96Ok",
        "outputId": "096b0e19-2618-42a0-a481-e3394fa51241"
      },
      "execution_count": null,
      "outputs": [
        {
          "output_type": "execute_result",
          "data": {
            "text/plain": [
              "array([[ 3.60555128,  8.36660027, 13.45362405],\n",
              "       [ 2.44948974,  7.54983444, 12.72792206]])"
            ]
          },
          "metadata": {},
          "execution_count": 170
        }
      ]
    }
  ]
}